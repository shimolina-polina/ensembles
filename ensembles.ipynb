{
 "cells": [
  {
   "cell_type": "code",
   "execution_count": 1,
   "id": "6e30e8c3",
   "metadata": {},
   "outputs": [],
   "source": [
    "import pandas as pd\n",
    "import numpy as np\n",
    "import plotly.express as px\n",
    "import seaborn as sns\n",
    "import matplotlib.pyplot as plt\n",
    "import sklearn\n",
    "import category_encoders as ce\n",
    "from sklearn.model_selection import train_test_split\n",
    "from sklearn.ensemble import RandomForestRegressor\n",
    "from sklearn.ensemble import GradientBoostingRegressor\n",
    "from mlxtend.regressor import StackingCVRegressor\n",
    "from sklearn.datasets import make_regression\n",
    "from sklearn.metrics import mean_squared_error\n",
    "from sklearn.model_selection import GridSearchCV\n",
    "from sklearn.linear_model import LinearRegression"
   ]
  },
  {
   "cell_type": "markdown",
   "id": "32f8cfdd",
   "metadata": {},
   "source": [
    "%pip install mlxtend"
   ]
  },
  {
   "cell_type": "code",
   "execution_count": 2,
   "id": "fd6a21d9",
   "metadata": {},
   "outputs": [],
   "source": [
    "df = pd.read_csv(\"Life Expectancy Data.csv\")"
   ]
  },
  {
   "cell_type": "code",
   "execution_count": 3,
   "id": "b4315d17",
   "metadata": {},
   "outputs": [],
   "source": [
    "y = df[\"Life expectancy \"]\n",
    "X =  df.drop([\"Life expectancy \"], axis=1)"
   ]
  },
  {
   "cell_type": "code",
   "execution_count": 4,
   "id": "9d6682b7",
   "metadata": {},
   "outputs": [],
   "source": [
    "y.fillna(y.median(), inplace=True)"
   ]
  },
  {
   "cell_type": "code",
   "execution_count": 5,
   "id": "7aea1571",
   "metadata": {},
   "outputs": [],
   "source": [
    "X.Year = pd.to_datetime(X.Year).dt.year"
   ]
  },
  {
   "cell_type": "code",
   "execution_count": 6,
   "id": "f97d72f2",
   "metadata": {},
   "outputs": [],
   "source": [
    "bin_enc = ce.BinaryEncoder(drop_invariant=True)\n",
    "X = bin_enc.fit_transform(X) "
   ]
  },
  {
   "cell_type": "code",
   "execution_count": 7,
   "id": "ade130fd",
   "metadata": {},
   "outputs": [],
   "source": [
    "X.fillna(X.mean(), inplace=True)"
   ]
  },
  {
   "cell_type": "code",
   "execution_count": 8,
   "id": "a9e4e603",
   "metadata": {},
   "outputs": [],
   "source": [
    "X_train, X_test, y_train, y_test= train_test_split(X, y, test_size= 0.30, random_state=9)"
   ]
  },
  {
   "cell_type": "markdown",
   "id": "1bceb33b",
   "metadata": {},
   "source": [
    "## Random fores (bagging group)\n",
    "\n",
    "Several independent models are created based on the same algorithm, but on different datasets, using a random subsample from a common dataset. Then the predictions of all these models are combined into one common prediction by averaging or voting."
   ]
  },
  {
   "cell_type": "code",
   "execution_count": 9,
   "id": "5034a5f3",
   "metadata": {},
   "outputs": [],
   "source": [
    "rfr = RandomForestRegressor()\n",
    "rfr.fit(X_train, y_train)\n",
    "prediction = rfr.predict(X_test)"
   ]
  },
  {
   "cell_type": "code",
   "execution_count": 10,
   "id": "ec3a2346",
   "metadata": {},
   "outputs": [
    {
     "data": {
      "text/plain": [
       "GridSearchCV(cv=5, estimator=RandomForestRegressor(),\n",
       "             param_grid={'max_depth': [10, 15, 20]})"
      ]
     },
     "execution_count": 10,
     "metadata": {},
     "output_type": "execute_result"
    }
   ],
   "source": [
    "params = { \n",
    " 'max_depth' : [10, 15, 20],\n",
    "}\n",
    "\n",
    "grid = GridSearchCV(estimator=RandomForestRegressor(), param_grid=params, cv= 5)\n",
    "grid.fit(X_train, y_train)"
   ]
  },
  {
   "cell_type": "code",
   "execution_count": 11,
   "id": "f2ff248e",
   "metadata": {},
   "outputs": [
    {
     "data": {
      "text/plain": [
       "(0.9560259403650033, {'max_depth': 20})"
      ]
     },
     "execution_count": 11,
     "metadata": {},
     "output_type": "execute_result"
    }
   ],
   "source": [
    "grid.best_score_, grid.best_params_"
   ]
  },
  {
   "cell_type": "code",
   "execution_count": 12,
   "id": "858c80fd",
   "metadata": {},
   "outputs": [
    {
     "data": {
      "text/plain": [
       "3.780427824778443"
      ]
     },
     "execution_count": 12,
     "metadata": {},
     "output_type": "execute_result"
    }
   ],
   "source": [
    "rfr = RandomForestRegressor(max_depth=15, random_state=0)\n",
    "rfr.fit(X_train, y_train)\n",
    "prediction = rfr.predict(X_test)\n",
    "mean_squared_error(y_test, prediction)"
   ]
  },
  {
   "cell_type": "markdown",
   "id": "922ad2ce",
   "metadata": {},
   "source": [
    "## Boosting group\n",
    "\n",
    "Sequential training of weak models to create a strong model. In boosting, each model learns from a data set that has been adjusted based on the errors of the previous model. Thus, each subsequent model focuses on those objects on which the previous model made a mistake, and tries to correct the errors. As a result, we get a strong model that can give more accurate forecasts than each of the weak models individually."
   ]
  },
  {
   "cell_type": "code",
   "execution_count": 13,
   "id": "86163b87",
   "metadata": {},
   "outputs": [
    {
     "data": {
      "text/plain": [
       "GridSearchCV(cv=5, estimator=GradientBoostingRegressor(), n_jobs=-1,\n",
       "             param_grid={'learning_rate': [0.01, 0.1], 'max_depth': [5, 8],\n",
       "                         'min_samples_split': [2, 5],\n",
       "                         'n_estimators': [500, 800]})"
      ]
     },
     "execution_count": 13,
     "metadata": {},
     "output_type": "execute_result"
    }
   ],
   "source": [
    "params = {\n",
    "    'n_estimators': [500, 800],\n",
    "    'max_depth': [5, 8],\n",
    "    'min_samples_split': [2, 5],\n",
    "    'learning_rate': [0.01, 0.1]\n",
    "}\n",
    "grid = GridSearchCV(GradientBoostingRegressor(), param_grid=params, cv=5, n_jobs=-1)\n",
    "grid.fit(X_train, y_train)"
   ]
  },
  {
   "cell_type": "code",
   "execution_count": 14,
   "id": "14f94d57",
   "metadata": {},
   "outputs": [
    {
     "data": {
      "text/plain": [
       "(0.9572816094106351,\n",
       " {'learning_rate': 0.1,\n",
       "  'max_depth': 5,\n",
       "  'min_samples_split': 5,\n",
       "  'n_estimators': 800})"
      ]
     },
     "execution_count": 14,
     "metadata": {},
     "output_type": "execute_result"
    }
   ],
   "source": [
    "grid.best_score_, grid.best_params_"
   ]
  },
  {
   "cell_type": "code",
   "execution_count": 15,
   "id": "47c56c40",
   "metadata": {},
   "outputs": [],
   "source": [
    "gbr = GradientBoostingRegressor(**grid.best_params_)\n",
    "gbr.fit(X_train, y_train)\n",
    "prediction = gbr.predict(X_test)"
   ]
  },
  {
   "cell_type": "code",
   "execution_count": 16,
   "id": "a4ff74e3",
   "metadata": {},
   "outputs": [
    {
     "data": {
      "text/plain": [
       "3.428038590524013"
      ]
     },
     "execution_count": 16,
     "metadata": {},
     "output_type": "execute_result"
    }
   ],
   "source": [
    "mean_squared_error(y_test, prediction)"
   ]
  },
  {
   "cell_type": "markdown",
   "id": "8def217d",
   "metadata": {},
   "source": [
    "## Stacking group\n",
    "\n",
    "We train several models on a training dataset, then use them to create predictions on a test dataset. Then we collect predictions from the underlying models and use them as input to the meta-model. The meta-model is trained on this data to improve the performance of the model."
   ]
  },
  {
   "cell_type": "code",
   "execution_count": 17,
   "id": "e1790f7f",
   "metadata": {},
   "outputs": [
    {
     "data": {
      "text/plain": [
       "GridSearchCV(cv=5,\n",
       "             estimator=StackingCVRegressor(meta_regressor=LinearRegression(),\n",
       "                                           regressors=[RandomForestRegressor(random_state=42),\n",
       "                                                       GradientBoostingRegressor(random_state=42),\n",
       "                                                       LinearRegression()]),\n",
       "             n_jobs=-1,\n",
       "             param_grid={'randomforestregressor__max_depth': [5, 8]})"
      ]
     },
     "execution_count": 17,
     "metadata": {},
     "output_type": "execute_result"
    }
   ],
   "source": [
    "reg1 = RandomForestRegressor(random_state=42)\n",
    "reg2 = GradientBoostingRegressor(random_state=42)\n",
    "reg3 = LinearRegression()\n",
    "meta_learner = LinearRegression()\n",
    "sr = StackingCVRegressor(regressors=[reg1, reg2, reg3], meta_regressor=meta_learner)\n",
    "params = {\n",
    "    'randomforestregressor__max_depth': [5, 8]\n",
    "}\n",
    "\n",
    "grid = GridSearchCV(estimator=sr, param_grid=params, cv=5, n_jobs=-1)\n",
    "grid.fit(X_train, y_train)"
   ]
  },
  {
   "cell_type": "code",
   "execution_count": 18,
   "id": "2e0e2f9c",
   "metadata": {},
   "outputs": [
    {
     "data": {
      "text/plain": [
       "dict_keys(['cv', 'meta_regressor__copy_X', 'meta_regressor__fit_intercept', 'meta_regressor__n_jobs', 'meta_regressor__normalize', 'meta_regressor__positive', 'meta_regressor', 'multi_output', 'n_jobs', 'pre_dispatch', 'random_state', 'refit', 'regressors', 'shuffle', 'store_train_meta_features', 'use_features_in_secondary', 'verbose', 'randomforestregressor', 'gradientboostingregressor', 'linearregression', 'randomforestregressor__bootstrap', 'randomforestregressor__ccp_alpha', 'randomforestregressor__criterion', 'randomforestregressor__max_depth', 'randomforestregressor__max_features', 'randomforestregressor__max_leaf_nodes', 'randomforestregressor__max_samples', 'randomforestregressor__min_impurity_decrease', 'randomforestregressor__min_samples_leaf', 'randomforestregressor__min_samples_split', 'randomforestregressor__min_weight_fraction_leaf', 'randomforestregressor__n_estimators', 'randomforestregressor__n_jobs', 'randomforestregressor__oob_score', 'randomforestregressor__random_state', 'randomforestregressor__verbose', 'randomforestregressor__warm_start', 'gradientboostingregressor__alpha', 'gradientboostingregressor__ccp_alpha', 'gradientboostingregressor__criterion', 'gradientboostingregressor__init', 'gradientboostingregressor__learning_rate', 'gradientboostingregressor__loss', 'gradientboostingregressor__max_depth', 'gradientboostingregressor__max_features', 'gradientboostingregressor__max_leaf_nodes', 'gradientboostingregressor__min_impurity_decrease', 'gradientboostingregressor__min_samples_leaf', 'gradientboostingregressor__min_samples_split', 'gradientboostingregressor__min_weight_fraction_leaf', 'gradientboostingregressor__n_estimators', 'gradientboostingregressor__n_iter_no_change', 'gradientboostingregressor__random_state', 'gradientboostingregressor__subsample', 'gradientboostingregressor__tol', 'gradientboostingregressor__validation_fraction', 'gradientboostingregressor__verbose', 'gradientboostingregressor__warm_start', 'linearregression__copy_X', 'linearregression__fit_intercept', 'linearregression__n_jobs', 'linearregression__normalize', 'linearregression__positive'])"
      ]
     },
     "execution_count": 18,
     "metadata": {},
     "output_type": "execute_result"
    }
   ],
   "source": [
    "sr.get_params().keys()"
   ]
  },
  {
   "cell_type": "code",
   "execution_count": 19,
   "id": "82fba19a",
   "metadata": {},
   "outputs": [
    {
     "data": {
      "text/plain": [
       "(0.9501129846734061, {'randomforestregressor__max_depth': 8})"
      ]
     },
     "execution_count": 19,
     "metadata": {},
     "output_type": "execute_result"
    }
   ],
   "source": [
    "grid.best_score_, grid.best_params_"
   ]
  },
  {
   "cell_type": "code",
   "execution_count": 20,
   "id": "fa9053c0",
   "metadata": {},
   "outputs": [],
   "source": [
    "reg1 = RandomForestRegressor(random_state=42, max_depth=8)"
   ]
  },
  {
   "cell_type": "code",
   "execution_count": 21,
   "id": "f8f1a6b0",
   "metadata": {},
   "outputs": [
    {
     "name": "stderr",
     "output_type": "stream",
     "text": [
      "C:\\anaconda3\\lib\\site-packages\\sklearn\\base.py:443: UserWarning: X has feature names, but RandomForestRegressor was fitted without feature names\n",
      "  warnings.warn(\n",
      "C:\\anaconda3\\lib\\site-packages\\sklearn\\base.py:443: UserWarning: X has feature names, but GradientBoostingRegressor was fitted without feature names\n",
      "  warnings.warn(\n",
      "C:\\anaconda3\\lib\\site-packages\\sklearn\\base.py:443: UserWarning: X has feature names, but LinearRegression was fitted without feature names\n",
      "  warnings.warn(\n"
     ]
    }
   ],
   "source": [
    "sr = StackingCVRegressor(regressors=[reg1, reg2, reg3], meta_regressor=meta_learner)\n",
    "sr.fit(X_train, y_train)\n",
    "prediction = sr.predict(X_test)"
   ]
  },
  {
   "cell_type": "code",
   "execution_count": 22,
   "id": "d713eaf6",
   "metadata": {},
   "outputs": [
    {
     "data": {
      "text/plain": [
       "4.43231527722557"
      ]
     },
     "execution_count": 22,
     "metadata": {},
     "output_type": "execute_result"
    }
   ],
   "source": [
    "mean_squared_error(y_test, prediction)"
   ]
  }
 ],
 "metadata": {
  "kernelspec": {
   "display_name": "Python 3 (ipykernel)",
   "language": "python",
   "name": "python3"
  },
  "language_info": {
   "codemirror_mode": {
    "name": "ipython",
    "version": 3
   },
   "file_extension": ".py",
   "mimetype": "text/x-python",
   "name": "python",
   "nbconvert_exporter": "python",
   "pygments_lexer": "ipython3",
   "version": "3.9.13"
  }
 },
 "nbformat": 4,
 "nbformat_minor": 5
}
